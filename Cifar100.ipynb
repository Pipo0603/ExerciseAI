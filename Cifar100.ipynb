{
  "nbformat": 4,
  "nbformat_minor": 0,
  "metadata": {
    "colab": {
      "provenance": [],
      "authorship_tag": "ABX9TyNXiUWAmPae6Io+D23NPrsv",
      "include_colab_link": true
    },
    "kernelspec": {
      "name": "python3",
      "display_name": "Python 3"
    },
    "language_info": {
      "name": "python"
    }
  },
  "cells": [
    {
      "cell_type": "markdown",
      "metadata": {
        "id": "view-in-github",
        "colab_type": "text"
      },
      "source": [
        "<a href=\"https://colab.research.google.com/github/Pipo0603/ExerciseAI/blob/main/Cifar100.ipynb\" target=\"_parent\"><img src=\"https://colab.research.google.com/assets/colab-badge.svg\" alt=\"Open In Colab\"/></a>"
      ]
    },
    {
      "cell_type": "code",
      "execution_count": null,
      "metadata": {
        "colab": {
          "base_uri": "https://localhost:8080/"
        },
        "id": "_d23pKeGc-hv",
        "outputId": "41a37d10-32be-4496-8954-c67de90775b4"
      },
      "outputs": [
        {
          "output_type": "stream",
          "name": "stdout",
          "text": [
            "Downloading data from https://www.cs.toronto.edu/~kriz/cifar-100-python.tar.gz\n",
            "169001437/169001437 [==============================] - 3s 0us/step\n",
            "(50000, 32, 32, 3)\n"
          ]
        },
        {
          "output_type": "execute_result",
          "data": {
            "text/plain": [
              "(10000, 32, 32, 3)"
            ]
          },
          "metadata": {},
          "execution_count": 1
        }
      ],
      "source": [
        "from keras.datasets  import mnist\n",
        "from keras.datasets  import cifar100\n",
        "import matplotlib.pyplot as plt\n",
        "from keras import models  \n",
        "(x_train,y_train),(x_test,y_test)=cifar100.load_data()\n",
        "print(x_train.shape)\n",
        "x_train.shape\n",
        "x_test.shape"
      ]
    },
    {
      "cell_type": "code",
      "source": [
        "from keras.models import Sequential\n",
        "from keras.layers import Dense\n",
        "\n",
        "x_train = x_train.reshape(50000,32*32*3)\n",
        "x_test= x_test.reshape(10000,32*32*3)"
      ],
      "metadata": {
        "id": "mHDekObUdGw0"
      },
      "execution_count": null,
      "outputs": []
    },
    {
      "cell_type": "code",
      "source": [
        "x_train_1= x_train.astype('float32')/255\n",
        "\n",
        "x_test_1= x_test.astype('float32')/255\n",
        "\n",
        "from keras.utils import to_categorical \n",
        "y_train_1= to_categorical(y_train,100)\n",
        "y_test_1= to_categorical(y_test,100)\n",
        "print(y_test)"
      ],
      "metadata": {
        "colab": {
          "base_uri": "https://localhost:8080/"
        },
        "id": "sdCL9tXpdU19",
        "outputId": "f33ed75a-0a27-4668-aded-afc43cd92068"
      },
      "execution_count": null,
      "outputs": [
        {
          "output_type": "stream",
          "name": "stdout",
          "text": [
            "[[49]\n",
            " [33]\n",
            " [72]\n",
            " ...\n",
            " [51]\n",
            " [42]\n",
            " [70]]\n"
          ]
        }
      ]
    },
    {
      "cell_type": "code",
      "source": [
        "model=models.Sequential()\n",
        "model.add(Dense(2000,input_shape=(32*32*3,),activation=\"relu\"))\n",
        "model.add(Dense(1000,activation=\"relu\"))\n",
        "model.add(Dense(100,activation=\"linear\",name=\"Softmax\"))\n",
        "model.summary"
      ],
      "metadata": {
        "colab": {
          "base_uri": "https://localhost:8080/"
        },
        "id": "_D7Zlh-8dXuZ",
        "outputId": "0d480b55-50d2-423c-c57c-a86880e26e70"
      },
      "execution_count": null,
      "outputs": [
        {
          "output_type": "execute_result",
          "data": {
            "text/plain": [
              "<bound method Model.summary of <keras.engine.sequential.Sequential object at 0x7f34977dee80>>"
            ]
          },
          "metadata": {},
          "execution_count": 4
        }
      ]
    },
    {
      "cell_type": "code",
      "source": [
        "model.compile(optimizer='rmsprop',loss='categorical_crossentropy',metrics=['accuracy'])\n",
        "model.fit(x_train_1,y_train_1,epochs=5,batch_size=128)\n",
        "test_lost,test_acc=model.evaluate(x_test_1,y_test_1)\n",
        "print('test_accuracy',test_acc)\n",
        "print('test_lost',test_lost)"
      ],
      "metadata": {
        "colab": {
          "base_uri": "https://localhost:8080/"
        },
        "id": "PmuIlRB8dadK",
        "outputId": "5e34c4a8-c423-4c04-b3c7-8ddcf4d405a2"
      },
      "execution_count": null,
      "outputs": [
        {
          "output_type": "stream",
          "name": "stdout",
          "text": [
            "Epoch 1/5\n",
            "391/391 [==============================] - 75s 190ms/step - loss: 6.6178 - accuracy: 0.0102\n",
            "Epoch 2/5\n",
            "391/391 [==============================] - 75s 191ms/step - loss: 6.2873 - accuracy: 0.0100\n",
            "Epoch 3/5\n",
            "391/391 [==============================] - 73s 186ms/step - loss: 6.2873 - accuracy: 0.0100\n",
            "Epoch 4/5\n",
            "391/391 [==============================] - 75s 191ms/step - loss: 6.2873 - accuracy: 0.0100\n",
            "Epoch 5/5\n",
            "391/391 [==============================] - 74s 189ms/step - loss: 6.2873 - accuracy: 0.0100\n",
            "313/313 [==============================] - 7s 22ms/step - loss: 6.2877 - accuracy: 0.0100\n",
            "test_accuracy 0.009999999776482582\n",
            "test_lost 6.287670135498047\n"
          ]
        }
      ]
    },
    {
      "cell_type": "code",
      "source": [
        "model.save(\"/content/drive/MyDrive/Colab Notebooks/BT/cifar100.h5\")"
      ],
      "metadata": {
        "id": "BQQtgwDVddWa"
      },
      "execution_count": null,
      "outputs": []
    },
    {
      "cell_type": "code",
      "source": [],
      "metadata": {
        "id": "l8anF6KifNGJ"
      },
      "execution_count": null,
      "outputs": []
    }
  ]
}