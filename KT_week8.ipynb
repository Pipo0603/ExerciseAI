{
  "nbformat": 4,
  "nbformat_minor": 0,
  "metadata": {
    "colab": {
      "provenance": [],
      "authorship_tag": "ABX9TyNX6TTM1u9WxY8w3AN84gwA",
      "include_colab_link": true
    },
    "kernelspec": {
      "name": "python3",
      "display_name": "Python 3"
    },
    "language_info": {
      "name": "python"
    }
  },
  "cells": [
    {
      "cell_type": "markdown",
      "metadata": {
        "id": "view-in-github",
        "colab_type": "text"
      },
      "source": [
        "<a href=\"https://colab.research.google.com/github/Pipo0603/ExerciseAI/blob/main/KT_week8.ipynb\" target=\"_parent\"><img src=\"https://colab.research.google.com/assets/colab-badge.svg\" alt=\"Open In Colab\"/></a>"
      ]
    },
    {
      "cell_type": "code",
      "execution_count": null,
      "metadata": {
        "colab": {
          "base_uri": "https://localhost:8080/"
        },
        "id": "W4Jn_IFzX1bH",
        "outputId": "daf8b783-5f3d-42dd-f296-34e7ad31ec62"
      },
      "outputs": [
        {
          "output_type": "stream",
          "name": "stdout",
          "text": [
            "[1 1 0 1 0 0 1 0 0 1 1 1 0 0 1 1 0 0]\n",
            "39    0\n",
            "29    1\n",
            "46    0\n",
            "20    1\n",
            "47    0\n",
            "3     0\n",
            "28    1\n",
            "2     0\n",
            "23    0\n",
            "14    1\n",
            "51    1\n",
            "33    1\n",
            "15    0\n",
            "6     0\n",
            "13    1\n",
            "24    1\n",
            "35    0\n",
            "30    0\n",
            "Name: Result, dtype: int64\n",
            "Độ chính xác của mô hình:  0.9444444444444444\n"
          ]
        }
      ],
      "source": [
        "#Le Quang Nhat 20146383\n",
        "import pandas as pd\n",
        "from sklearn  import datasets\n",
        "import numpy as np\n",
        "import seaborn as sns\n",
        "import matplotlib.pyplot as plt\n",
        "from sklearn.linear_model import Perceptron\n",
        "from sklearn.model_selection import train_test_split \n",
        "from sklearn.metrics import accuracy_score\n",
        "from sklearn.preprocessing import StandardScaler\n",
        "dataframe = pd.read_csv('/content/lung_cancer_examples.csv')\n",
        "dataframe.head()\n",
        "x = dataframe.drop(['Name','Surname','Result','Age'],axis = 1)\n",
        "y = dataframe.Result   #1 là ung thư\n",
        "x_train, x_test, y_train, y_test = train_test_split(x,y,test_size=0.3)\n",
        "sc = StandardScaler()\n",
        "sc.fit(x_train)\n",
        "x_train_std = sc.transform(x_train)\n",
        "x_test_std = sc.transform(x_test)\n",
        "model = Perceptron(max_iter = 100, eta0 = 0.1, random_state = 0)\n",
        "model.fit(x_train_std, y_train)\n",
        "y_pred = model.predict(x_test_std)\n",
        "print(y_pred)\n",
        "print(y_test)\n",
        "print(\"Độ chính xác của mô hình: \", accuracy_score(y_test, y_pred))"
      ]
    },
    {
      "cell_type": "code",
      "source": [],
      "metadata": {
        "id": "tO4Mlmw8YMQW"
      },
      "execution_count": null,
      "outputs": []
    }
  ]
}