{
  "nbformat": 4,
  "nbformat_minor": 0,
  "metadata": {
    "colab": {
      "provenance": [],
      "authorship_tag": "ABX9TyPmd0QBY+x6N9OQi2Y6sacT",
      "include_colab_link": true
    },
    "kernelspec": {
      "name": "python3",
      "display_name": "Python 3"
    },
    "language_info": {
      "name": "python"
    }
  },
  "cells": [
    {
      "cell_type": "markdown",
      "metadata": {
        "id": "view-in-github",
        "colab_type": "text"
      },
      "source": [
        "<a href=\"https://colab.research.google.com/github/Pipo0603/ExerciseAI/blob/main/AL_WEEK8.ipynb\" target=\"_parent\"><img src=\"https://colab.research.google.com/assets/colab-badge.svg\" alt=\"Open In Colab\"/></a>"
      ]
    },
    {
      "cell_type": "code",
      "execution_count": 16,
      "metadata": {
        "colab": {
          "base_uri": "https://localhost:8080/"
        },
        "id": "X38dmDOIzhxE",
        "outputId": "3a711afc-51f7-4efc-f0e3-258fe61c8be7"
      },
      "outputs": [
        {
          "output_type": "stream",
          "name": "stdout",
          "text": [
            "[0 1 1 1 1 1]\n"
          ]
        },
        {
          "output_type": "execute_result",
          "data": {
            "text/plain": [
              "1.0"
            ]
          },
          "metadata": {},
          "execution_count": 16
        }
      ],
      "source": [
        "from sklearn.linear_model import Perceptron #tín hiệu ra là 0 hoặc 1\n",
        "x=[[0,0],[0,1],[1,0],[1,1]] #cột là \n",
        "y=[0,1,1,1] #hàng là số lượng mẫu, số hàng của y và x phải bằng nhau\n",
        "model=Perceptron()\n",
        "model.fit(x,y)\n",
        "model.score(x,y)\n",
        "x1=[[0.5,0],[0.5,0.1],[0.7,0],[3,5],[1,0.2],[0,0.9]]\n",
        "y1=model.predict(x1)\n",
        "print(y1)\n",
        "model.score(x1,y1)"
      ]
    },
    {
      "cell_type": "code",
      "source": [
        "from sklearn.linear_model import Perceptron\n",
        "x=[[-0.5,-0.5],[-0.5,0.5],[0.3,-0.5],[-0.1,1]] \n",
        "t=[1,1,0,0] \n",
        "model=Perceptron()\n",
        "model.fit(x,t)\n",
        "model.score(x,t)\n",
        "x2=[[-62,-25],[0.5,-2],[6,5],[0.3,-7],[5.2,7.4],[0.6,-0.3],[5,-9],[0.6,9.72],[-5.4,-2.3],[21,100]]\n",
        "y2=model.predict(x2)\n",
        "print(y2)\n",
        "model.score(x2,y2)"
      ],
      "metadata": {
        "colab": {
          "base_uri": "https://localhost:8080/"
        },
        "id": "IydZmVZaznLg",
        "outputId": "a562a388-72b0-493c-d21d-623fd284de2e"
      },
      "execution_count": 17,
      "outputs": [
        {
          "output_type": "stream",
          "name": "stdout",
          "text": [
            "[1 1 0 1 0 0 0 0 1 0]\n"
          ]
        },
        {
          "output_type": "execute_result",
          "data": {
            "text/plain": [
              "1.0"
            ]
          },
          "metadata": {},
          "execution_count": 17
        }
      ]
    },
    {
      "cell_type": "code",
      "source": [
        "from sklearn  import datasets\n",
        "from sklearn.linear_model import Perceptron\n",
        "from sklearn.model_selection import train_test_split #tỉ lệ train_test là 7/3 hoặc 8/2. ko đc lấy train đi kiểm tra\n",
        "from sklearn.metrics import accuracy_score \n",
        "from sklearn.preprocessing import StandardScaler #tỉ lệ các giá trị bằng nhau\n",
        "import numpy as np\n",
        "import seaborn as sns\n",
        "import matplotlib.pyplot as plt\n",
        "iris=datasets.load_iris()\n",
        "X=iris.data\n",
        "y=iris.target\n",
        "print(X[:5])\n",
        "print(y[:5])\n",
        "X_train,X_test,y_train,y_test=train_test_split(X,y,test_size=0.3)\n",
        "sc=StandardScaler()\n",
        "sc.fit(X_train)\n",
        "X_train_Std=sc.transform(X_train)\n",
        "X_test_Std=sc.transform(X_test)\n",
        "model=Perceptron(max_iter=40, eta0=0.1,random_state=0)#tốc độ eta càng lớn thì sai càng nhiều, thấp thì hội tụ càng chập\n",
        "model.fit(X_train_Std, y_train)\n",
        "y_pred=model.predict(X_test_Std)\n",
        "print(y_pred)\n",
        "print(y_test)\n",
        "print('Độ chính xác của mô hình: ',accuracy_score(y_test,y_pred))"
      ],
      "metadata": {
        "colab": {
          "base_uri": "https://localhost:8080/"
        },
        "id": "hklwHANkzq2U",
        "outputId": "267c827a-1e1f-425e-8f96-60e172a90065"
      },
      "execution_count": 28,
      "outputs": [
        {
          "output_type": "stream",
          "name": "stdout",
          "text": [
            "[[5.1 3.5 1.4 0.2]\n",
            " [4.9 3.  1.4 0.2]\n",
            " [4.7 3.2 1.3 0.2]\n",
            " [4.6 3.1 1.5 0.2]\n",
            " [5.  3.6 1.4 0.2]]\n",
            "[0 0 0 0 0]\n",
            "[2 1 1 1 2 0 1 1 0 0 2 0 0 2 0 1 2 1 2 1 0 2 2 2 1 2 2 1 1 0 2 1 1 1 0 0 2\n",
            " 2 1 0 1 1 2 1 1]\n",
            "[2 1 0 1 2 0 1 1 0 0 2 0 0 2 0 1 2 1 2 1 0 2 2 2 1 2 1 1 1 0 2 1 1 1 0 0 2\n",
            " 2 1 0 1 2 2 2 1]\n",
            "Độ chính xác của mô hình:  0.9111111111111111\n"
          ]
        }
      ]
    },
    {
      "cell_type": "code",
      "source": [
        "import pandas as pd\n",
        "import numpy as np\n",
        "\n",
        "dataframe = pd.read_csv('/content/crabs.csv')\n",
        "dataframe.head()\n",
        "crab_B = dataframe\n",
        "crab_B.sex = crab_B.sex.apply(lambda x: x.replace(\"M\",\"1\"))\n",
        "crab_B.sex = crab_B.sex.apply(lambda x: x.replace(\"F\",\"0\"))\n",
        "print(crab_B)"
      ],
      "metadata": {
        "colab": {
          "base_uri": "https://localhost:8080/"
        },
        "id": "w8-Jo4Z6ztZE",
        "outputId": "67c3584b-c1df-4297-a3be-169ef4dfc329"
      },
      "execution_count": 35,
      "outputs": [
        {
          "output_type": "stream",
          "name": "stdout",
          "text": [
            "    speies sex  index  fontallip  rearwidth  length  width  depth\n",
            "0        B   1      1        8.1        6.7    16.1   19.0    7.0\n",
            "1        B   1      2        8.8        7.7    18.1   20.8    7.4\n",
            "2        B   1      3        9.2        7.8    19.0   22.4    7.7\n",
            "3        B   1      4        9.6        7.9    20.1   23.1    8.2\n",
            "4        B   1      5        9.8        8.0    20.3   23.0    8.2\n",
            "..     ...  ..    ...        ...        ...     ...    ...    ...\n",
            "195      O   0     46       21.4       18.0    41.2   46.2   18.7\n",
            "196      O   0     47       21.7       17.1    41.7   47.2   19.6\n",
            "197      O   0     48       21.9       17.2    42.6   47.4   19.5\n",
            "198      O   0     49       22.5       17.2    43.0   48.7   19.8\n",
            "199      O   0     50       23.1       20.2    46.2   52.5   21.1\n",
            "\n",
            "[200 rows x 8 columns]\n"
          ]
        }
      ]
    },
    {
      "cell_type": "code",
      "source": [
        "x = crab_B.drop(['speies','sex','index'],axis = 1)\n",
        "print(x)\n",
        "y = crab_B.sex\n",
        "print(y)\n",
        "     "
      ],
      "metadata": {
        "colab": {
          "base_uri": "https://localhost:8080/"
        },
        "id": "L6iss-V3zvbW",
        "outputId": "38ed8f0f-7bc8-471b-cd63-26200bfeaa5e"
      },
      "execution_count": null,
      "outputs": [
        {
          "output_type": "stream",
          "name": "stdout",
          "text": [
            "    fontallip  rearwidth  length  width  depth\n",
            "0         8.1        6.7    16.1   19.0    7.0\n",
            "1         8.8        7.7    18.1   20.8    7.4\n",
            "2         9.2        7.8    19.0   22.4    7.7\n",
            "3         9.6        7.9    20.1   23.1    8.2\n",
            "4         9.8        8.0    20.3   23.0    8.2\n",
            "..        ...        ...     ...    ...    ...\n",
            "95       16.4       14.0    34.2   39.8   15.2\n",
            "96       16.7       16.1    36.6   41.9   15.4\n",
            "97       17.4       16.9    38.2   44.1   16.6\n",
            "98       17.5       16.7    38.6   44.5   17.0\n",
            "99       19.2       16.5    40.9   47.9   18.1\n",
            "\n",
            "[100 rows x 5 columns]\n",
            "0     1\n",
            "1     1\n",
            "2     1\n",
            "3     1\n",
            "4     1\n",
            "     ..\n",
            "95    0\n",
            "96    0\n",
            "97    0\n",
            "98    0\n",
            "99    0\n",
            "Name: sex, Length: 100, dtype: object\n"
          ]
        }
      ]
    },
    {
      "cell_type": "code",
      "source": [
        "x_train, x_test, y_train, y_test = train_test_split(x,y,test_size=0.3)\n",
        "sc = StandardScaler()\n",
        "sc.fit(x_train)\n",
        "x_train_std = sc.transform(x_train)\n",
        "x_test_std = sc.transform(x_test)\n",
        "model = Perceptron(max_iter = 100, eta0 = 0.1, random_state = 0)\n",
        "#model: số lần học\n",
        "model.fit(x_train_std, y_train)\n",
        "y_pred = model.predict(x_test_std)\n",
        "print(y_pred)\n",
        "print(y_test)\n",
        "print(\"Độ chính xác của mô hình: \", accuracy_score(y_test, y_pred))"
      ],
      "metadata": {
        "colab": {
          "base_uri": "https://localhost:8080/"
        },
        "id": "v1G8a6Cgz3cb",
        "outputId": "cc6f9333-3eaf-4d46-82e4-20e9907202ab"
      },
      "execution_count": null,
      "outputs": [
        {
          "output_type": "stream",
          "name": "stdout",
          "text": [
            "['0' '0' '1' '1' '0' '0' '1' '1' '0' '0' '1' '0' '0' '0' '1' '0' '1' '0'\n",
            " '1' '0' '0' '0' '0' '0' '1' '1' '1' '1' '0' '1']\n",
            "73    0\n",
            "85    0\n",
            "48    1\n",
            "14    1\n",
            "77    0\n",
            "74    0\n",
            "99    0\n",
            "13    1\n",
            "2     1\n",
            "53    0\n",
            "8     1\n",
            "78    0\n",
            "75    0\n",
            "59    0\n",
            "31    1\n",
            "89    0\n",
            "40    1\n",
            "52    0\n",
            "21    1\n",
            "57    0\n",
            "56    0\n",
            "88    0\n",
            "92    0\n",
            "83    0\n",
            "7     1\n",
            "16    1\n",
            "29    1\n",
            "26    1\n",
            "10    1\n",
            "43    1\n",
            "Name: sex, dtype: object\n",
            "Độ chính xác của mô hình:  0.9\n"
          ]
        }
      ]
    },
    {
      "cell_type": "code",
      "source": [
        "data = pd.read_csv('/content/crabs.csv')\n",
        "data.head()\n",
        "crab=data\n",
        "crab.speies = crab.speies.apply(lambda x: x.replace(\"B\",\"1\"))\n",
        "crab.speies = crab.speies.apply(lambda x: x.replace(\"O\",\"0\"))\n",
        "print(crab)\n",
        "x = crab.drop(['speies','sex','index'],axis = 1)\n",
        "print(x)\n",
        "y = crab.speies\n",
        "print(y)\n",
        "x_train, x_test, y_train, y_test = train_test_split(x,y,test_size=0.3)\n",
        "sc = StandardScaler()\n",
        "sc.fit(x_train)\n",
        "x_train_std = sc.transform(x_train)\n",
        "x_test_std = sc.transform(x_test)\n",
        "model = Perceptron(max_iter = 100, eta0 = 0.1, random_state = 0)\n",
        "#model: số lần học\n",
        "model.fit(x_train_std, y_train)\n",
        "y_pred = model.predict(x_test_std)\n",
        "print(y_pred)\n",
        "print(y_test)\n",
        "print(\"Độ chính xác của mô hình: \", accuracy_score(y_test, y_pred))"
      ],
      "metadata": {
        "colab": {
          "base_uri": "https://localhost:8080/"
        },
        "id": "kvpoe3c5z88H",
        "outputId": "70b89e3a-2b12-436c-f449-9dfbe6d87d13"
      },
      "execution_count": 43,
      "outputs": [
        {
          "output_type": "stream",
          "name": "stdout",
          "text": [
            "    speies sex  index  fontallip  rearwidth  length  width  depth\n",
            "0        1   M      1        8.1        6.7    16.1   19.0    7.0\n",
            "1        1   M      2        8.8        7.7    18.1   20.8    7.4\n",
            "2        1   M      3        9.2        7.8    19.0   22.4    7.7\n",
            "3        1   M      4        9.6        7.9    20.1   23.1    8.2\n",
            "4        1   M      5        9.8        8.0    20.3   23.0    8.2\n",
            "..     ...  ..    ...        ...        ...     ...    ...    ...\n",
            "195      0   F     46       21.4       18.0    41.2   46.2   18.7\n",
            "196      0   F     47       21.7       17.1    41.7   47.2   19.6\n",
            "197      0   F     48       21.9       17.2    42.6   47.4   19.5\n",
            "198      0   F     49       22.5       17.2    43.0   48.7   19.8\n",
            "199      0   F     50       23.1       20.2    46.2   52.5   21.1\n",
            "\n",
            "[200 rows x 8 columns]\n",
            "     fontallip  rearwidth  length  width  depth\n",
            "0          8.1        6.7    16.1   19.0    7.0\n",
            "1          8.8        7.7    18.1   20.8    7.4\n",
            "2          9.2        7.8    19.0   22.4    7.7\n",
            "3          9.6        7.9    20.1   23.1    8.2\n",
            "4          9.8        8.0    20.3   23.0    8.2\n",
            "..         ...        ...     ...    ...    ...\n",
            "195       21.4       18.0    41.2   46.2   18.7\n",
            "196       21.7       17.1    41.7   47.2   19.6\n",
            "197       21.9       17.2    42.6   47.4   19.5\n",
            "198       22.5       17.2    43.0   48.7   19.8\n",
            "199       23.1       20.2    46.2   52.5   21.1\n",
            "\n",
            "[200 rows x 5 columns]\n",
            "0      1\n",
            "1      1\n",
            "2      1\n",
            "3      1\n",
            "4      1\n",
            "      ..\n",
            "195    0\n",
            "196    0\n",
            "197    0\n",
            "198    0\n",
            "199    0\n",
            "Name: speies, Length: 200, dtype: object\n",
            "['0' '1' '1' '1' '0' '1' '1' '1' '1' '0' '0' '1' '1' '0' '1' '0' '1' '1'\n",
            " '1' '1' '0' '1' '1' '0' '1' '1' '0' '0' '0' '0' '0' '1' '1' '0' '0' '0'\n",
            " '1' '0' '1' '0' '0' '0' '1' '0' '1' '0' '0' '1' '1' '1' '0' '1' '1' '0'\n",
            " '1' '1' '0' '1' '1' '1']\n",
            "183    0\n",
            "32     1\n",
            "63     1\n",
            "98     1\n",
            "177    0\n",
            "20     1\n",
            "66     1\n",
            "78     1\n",
            "47     1\n",
            "157    0\n",
            "143    0\n",
            "55     1\n",
            "41     1\n",
            "154    0\n",
            "59     1\n",
            "103    0\n",
            "26     1\n",
            "97     1\n",
            "87     1\n",
            "34     1\n",
            "125    0\n",
            "27     1\n",
            "75     1\n",
            "134    0\n",
            "51     1\n",
            "31     1\n",
            "196    0\n",
            "122    0\n",
            "109    0\n",
            "102    0\n",
            "113    0\n",
            "83     1\n",
            "5      1\n",
            "197    0\n",
            "186    0\n",
            "124    0\n",
            "21     1\n",
            "160    0\n",
            "50     1\n",
            "128    0\n",
            "110    0\n",
            "101    0\n",
            "56     1\n",
            "153    0\n",
            "65     1\n",
            "190    0\n",
            "181    0\n",
            "58     1\n",
            "14     1\n",
            "89     1\n",
            "166    0\n",
            "1      1\n",
            "52     1\n",
            "144    0\n",
            "85     1\n",
            "17     1\n",
            "95     1\n",
            "23     1\n",
            "13     1\n",
            "6      1\n",
            "Name: speies, dtype: object\n",
            "Độ chính xác của mô hình:  0.9833333333333333\n"
          ]
        }
      ]
    },
    {
      "cell_type": "code",
      "source": [],
      "metadata": {
        "id": "osWTDel-0A6e",
        "colab": {
          "base_uri": "https://localhost:8080/",
          "height": 219
        },
        "outputId": "e1edf251-849a-4228-af37-3498e05f0dd8"
      },
      "execution_count": 37,
      "outputs": [
        {
          "output_type": "error",
          "ename": "NameError",
          "evalue": "ignored",
          "traceback": [
            "\u001b[0;31m---------------------------------------------------------------------------\u001b[0m",
            "\u001b[0;31mNameError\u001b[0m                                 Traceback (most recent call last)",
            "\u001b[0;32m<ipython-input-37-0032d07c36ad>\u001b[0m in \u001b[0;36m<module>\u001b[0;34m\u001b[0m\n\u001b[0;32m----> 1\u001b[0;31m \u001b[0mx\u001b[0m \u001b[0;34m=\u001b[0m \u001b[0mcrab\u001b[0m\u001b[0;34m.\u001b[0m\u001b[0mdrop\u001b[0m\u001b[0;34m(\u001b[0m\u001b[0;34m[\u001b[0m\u001b[0;34m'sex'\u001b[0m\u001b[0;34m,\u001b[0m\u001b[0;34m'speies'\u001b[0m\u001b[0;34m,\u001b[0m\u001b[0;34m'index'\u001b[0m\u001b[0;34m]\u001b[0m\u001b[0;34m,\u001b[0m\u001b[0maxis\u001b[0m \u001b[0;34m=\u001b[0m \u001b[0;36m1\u001b[0m\u001b[0;34m)\u001b[0m\u001b[0;34m\u001b[0m\u001b[0;34m\u001b[0m\u001b[0m\n\u001b[0m\u001b[1;32m      2\u001b[0m \u001b[0mprint\u001b[0m\u001b[0;34m(\u001b[0m\u001b[0mx\u001b[0m\u001b[0;34m)\u001b[0m\u001b[0;34m\u001b[0m\u001b[0;34m\u001b[0m\u001b[0m\n\u001b[1;32m      3\u001b[0m \u001b[0my\u001b[0m \u001b[0;34m=\u001b[0m \u001b[0mcrab\u001b[0m\u001b[0;34m.\u001b[0m\u001b[0mspeies\u001b[0m\u001b[0;34m\u001b[0m\u001b[0;34m\u001b[0m\u001b[0m\n\u001b[1;32m      4\u001b[0m \u001b[0mprint\u001b[0m\u001b[0;34m(\u001b[0m\u001b[0my\u001b[0m\u001b[0;34m)\u001b[0m\u001b[0;34m\u001b[0m\u001b[0;34m\u001b[0m\u001b[0m\n",
            "\u001b[0;31mNameError\u001b[0m: name 'crab' is not defined"
          ]
        }
      ]
    },
    {
      "cell_type": "code",
      "source": [],
      "metadata": {
        "id": "1_9EU90mnlrm"
      },
      "execution_count": null,
      "outputs": []
    }
  ]
}