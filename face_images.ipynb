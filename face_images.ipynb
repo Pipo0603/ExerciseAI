{
  "nbformat": 4,
  "nbformat_minor": 0,
  "metadata": {
    "colab": {
      "provenance": [],
      "mount_file_id": "1eO27TTlMPtDrKDIndjnYl5jBzobC1mFX",
      "authorship_tag": "ABX9TyNcUDsBhb+gU7eI8UIv4EhK",
      "include_colab_link": true
    },
    "kernelspec": {
      "name": "python3",
      "display_name": "Python 3"
    },
    "language_info": {
      "name": "python"
    },
    "accelerator": "GPU",
    "gpuClass": "standard"
  },
  "cells": [
    {
      "cell_type": "markdown",
      "metadata": {
        "id": "view-in-github",
        "colab_type": "text"
      },
      "source": [
        "<a href=\"https://colab.research.google.com/github/Pipo0603/ExerciseAI/blob/main/face_images.ipynb\" target=\"_parent\"><img src=\"https://colab.research.google.com/assets/colab-badge.svg\" alt=\"Open In Colab\"/></a>"
      ]
    },
    {
      "cell_type": "code",
      "execution_count": null,
      "metadata": {
        "id": "okscz9EJaOys"
      },
      "outputs": [],
      "source": [
        "from os import listdir\n",
        "from numpy import asarray\n",
        "from numpy import save\n",
        "from keras import preprocessing\n",
        "from tensorflow.keras.utils import load_img, img_to_array"
      ]
    },
    {
      "cell_type": "code",
      "source": [
        "data=\"/content/drive/MyDrive/SV/\""
      ],
      "metadata": {
        "id": "IVa_9ZCUca1B"
      },
      "execution_count": null,
      "outputs": []
    },
    {
      "cell_type": "code",
      "source": [
        "print(\"Bắt đầu xử lý ảnh...\")\n",
        "\n",
        "pixels,labels=list(),list()\n",
        "\n",
        "for folder in listdir(data):\n",
        "    if folder!='.DS_Store':\n",
        "        #print(\"Folder=\",folder)\n",
        "        for file in listdir(data  + folder):\n",
        "            if file!='.DS_Store':\n",
        "                #print(\"File=\", file)\n",
        "                pixel=load_img(data  + folder +\"/\" + file,target_size=(40,30))\n",
        "                pixel=img_to_array(pixel)\n",
        "                pixels.append(pixel)\n",
        "                labels.append( folder)\n",
        "\n",
        "pixels =asarray(pixels)\n",
        "labels =asarray(labels)#.reshape(-1,1)"
      ],
      "metadata": {
        "colab": {
          "base_uri": "https://localhost:8080/"
        },
        "id": "x9J2lGT-dDm_",
        "outputId": "e7ac9098-0e2b-47df-d4b1-95a15d273ec5"
      },
      "execution_count": null,
      "outputs": [
        {
          "output_type": "stream",
          "name": "stdout",
          "text": [
            "Bắt đầu xử lý ảnh...\n"
          ]
        }
      ]
    },
    {
      "cell_type": "code",
      "source": [
        "from sklearn.preprocessing import LabelBinarizer\n",
        "import pickle\n",
        "from sklearn.model_selection import train_test_split\n",
        "encoder = LabelBinarizer()\n",
        "labels = encoder.fit_transform(labels)\n",
        "#print(labels)\n",
        "\n",
        "file = open('pix.data', 'wb')\n",
        "# dump information to that file\n",
        "pickle.dump((pixels,labels), file)\n",
        "# close the file\n",
        "file.close()"
      ],
      "metadata": {
        "id": "F68lgITEdF-s"
      },
      "execution_count": null,
      "outputs": []
    },
    {
      "cell_type": "code",
      "source": [
        "def load_data():\n",
        "    file = open('pix.data', 'rb')\n",
        "    # dump information to that file\n",
        "    (pixels, labels) = pickle.load(file)\n",
        "    # close the file\n",
        "    file.close()\n",
        "    return pixels, labels\n",
        "\n",
        "#save_data()\n",
        "X,y = load_data()\n",
        "#random.shuffle(X)\n",
        "X_train, X_test, y_train, y_test = train_test_split( X, y, test_size=0.2, random_state=100)"
      ],
      "metadata": {
        "id": "k7C2GCvbekYJ"
      },
      "execution_count": null,
      "outputs": []
    },
    {
      "cell_type": "code",
      "source": [
        "print(X_train.shape)\n",
        "print(X_test.shape)"
      ],
      "metadata": {
        "colab": {
          "base_uri": "https://localhost:8080/"
        },
        "id": "2zhUvj5Ke2fo",
        "outputId": "720024de-9b17-4f9a-b568-d5a95e37e389"
      },
      "execution_count": null,
      "outputs": [
        {
          "output_type": "stream",
          "name": "stdout",
          "text": [
            "(200, 40, 30, 3)\n",
            "(51, 40, 30, 3)\n"
          ]
        }
      ]
    },
    {
      "cell_type": "code",
      "source": [
        "from keras.models import Sequential\n",
        "from keras.layers import Dense\n",
        "from numpy.ma.core import reshape"
      ],
      "metadata": {
        "id": "fIvKPKQme5He"
      },
      "execution_count": null,
      "outputs": []
    },
    {
      "cell_type": "code",
      "source": [
        "X_train= X_train.astype('float32')/255\n",
        "print(y_train.shape)\n",
        "X_test= X_test.astype('float32')/255"
      ],
      "metadata": {
        "colab": {
          "base_uri": "https://localhost:8080/"
        },
        "id": "FLb1XUJ9e9P9",
        "outputId": "7272617f-7eca-4496-b149-25620603f467"
      },
      "execution_count": null,
      "outputs": [
        {
          "output_type": "stream",
          "name": "stdout",
          "text": [
            "(200, 5)\n"
          ]
        }
      ]
    },
    {
      "cell_type": "code",
      "source": [
        "from keras import models \n",
        "from keras.models import Sequential,Model\n",
        "from keras import Input\n",
        "from keras.layers import Dense,Flatten,Dropout,Conv2D,MaxPooling2D,Normalization\n",
        "from keras.optimizers import Adam\n",
        "batch_size=100 #lô\n",
        "epochs=25     #số lần học\n",
        "classes=5    #phân loại"
      ],
      "metadata": {
        "id": "U8t2JQ9VfAG-"
      },
      "execution_count": null,
      "outputs": []
    },
    {
      "cell_type": "code",
      "source": [
        "model=Sequential()\n",
        "model.add(Conv2D(32,kernel_size=(3,3),activation='linear',input_shape=(40,30,3),padding='same'))\n",
        "from keras.layers import LeakyReLU\n",
        "model.add(LeakyReLU(alpha=0.1))\n",
        "model.add(MaxPooling2D((2,2),padding='same'))\n",
        "#so lan tich chap\n",
        "model.add(Conv2D(64,(3,3),activation='linear',padding='same'))\n",
        "model.add(LeakyReLU(alpha=0.1))\n",
        "model.add(MaxPooling2D((2,2),padding='same'))\n",
        "\n",
        "model.add(Conv2D(128,(3,3),activation='linear',padding='same'))\n",
        "model.add(LeakyReLU(alpha=0.1))\n",
        "model.add(MaxPooling2D((2,2),padding='same'))"
      ],
      "metadata": {
        "id": "ykA95SO-fDV1"
      },
      "execution_count": null,
      "outputs": []
    },
    {
      "cell_type": "code",
      "source": [
        "from keras import optimizers\n",
        "from keras import losses\n",
        "model.add(Flatten())\n",
        "model.add(Dense(1000,activation='linear'))\n",
        "model.add(Dense(500,activation='linear'))\n",
        "model.add(LeakyReLU(alpha=0.1))\n",
        "model.add(Dense(classes,activation='softmax'))\n",
        "model.compile(loss=losses.categorical_crossentropy,optimizer=Adam(),metrics=['accuracy'])\n",
        "model.summary()\n",
        "train=model.fit(X_train,y_train,batch_size=batch_size,epochs=epochs,verbose=1)"
      ],
      "metadata": {
        "colab": {
          "base_uri": "https://localhost:8080/"
        },
        "id": "VR2IExrpfIzE",
        "outputId": "a9f00861-f449-4941-ff72-26c8c87e76e6"
      },
      "execution_count": null,
      "outputs": [
        {
          "output_type": "stream",
          "name": "stdout",
          "text": [
            "Model: \"sequential_1\"\n",
            "_________________________________________________________________\n",
            " Layer (type)                Output Shape              Param #   \n",
            "=================================================================\n",
            " conv2d_3 (Conv2D)           (None, 40, 30, 32)        896       \n",
            "                                                                 \n",
            " leaky_re_lu_4 (LeakyReLU)   (None, 40, 30, 32)        0         \n",
            "                                                                 \n",
            " max_pooling2d_3 (MaxPooling  (None, 20, 15, 32)       0         \n",
            " 2D)                                                             \n",
            "                                                                 \n",
            " conv2d_4 (Conv2D)           (None, 20, 15, 64)        18496     \n",
            "                                                                 \n",
            " leaky_re_lu_5 (LeakyReLU)   (None, 20, 15, 64)        0         \n",
            "                                                                 \n",
            " max_pooling2d_4 (MaxPooling  (None, 10, 8, 64)        0         \n",
            " 2D)                                                             \n",
            "                                                                 \n",
            " conv2d_5 (Conv2D)           (None, 10, 8, 128)        73856     \n",
            "                                                                 \n",
            " leaky_re_lu_6 (LeakyReLU)   (None, 10, 8, 128)        0         \n",
            "                                                                 \n",
            " max_pooling2d_5 (MaxPooling  (None, 5, 4, 128)        0         \n",
            " 2D)                                                             \n",
            "                                                                 \n",
            " flatten_1 (Flatten)         (None, 2560)              0         \n",
            "                                                                 \n",
            " dense_3 (Dense)             (None, 1000)              2561000   \n",
            "                                                                 \n",
            " dense_4 (Dense)             (None, 500)               500500    \n",
            "                                                                 \n",
            " leaky_re_lu_7 (LeakyReLU)   (None, 500)               0         \n",
            "                                                                 \n",
            " dense_5 (Dense)             (None, 5)                 2505      \n",
            "                                                                 \n",
            "=================================================================\n",
            "Total params: 3,157,253\n",
            "Trainable params: 3,157,253\n",
            "Non-trainable params: 0\n",
            "_________________________________________________________________\n",
            "Epoch 1/25\n",
            "2/2 [==============================] - 8s 21ms/step - loss: 1.9447 - accuracy: 0.2150\n",
            "Epoch 2/25\n",
            "2/2 [==============================] - 0s 12ms/step - loss: 1.6392 - accuracy: 0.2250\n",
            "Epoch 3/25\n",
            "2/2 [==============================] - 0s 12ms/step - loss: 1.4107 - accuracy: 0.5150\n",
            "Epoch 4/25\n",
            "2/2 [==============================] - 0s 13ms/step - loss: 1.2579 - accuracy: 0.7650\n",
            "Epoch 5/25\n",
            "2/2 [==============================] - 0s 12ms/step - loss: 0.9645 - accuracy: 0.7650\n",
            "Epoch 6/25\n",
            "2/2 [==============================] - 0s 12ms/step - loss: 0.6071 - accuracy: 0.7600\n",
            "Epoch 7/25\n",
            "2/2 [==============================] - 0s 11ms/step - loss: 0.3564 - accuracy: 0.8800\n",
            "Epoch 8/25\n",
            "2/2 [==============================] - 0s 11ms/step - loss: 0.2478 - accuracy: 0.9000\n",
            "Epoch 9/25\n",
            "2/2 [==============================] - 0s 11ms/step - loss: 0.1408 - accuracy: 0.9800\n",
            "Epoch 10/25\n",
            "2/2 [==============================] - 0s 11ms/step - loss: 0.0698 - accuracy: 0.9850\n",
            "Epoch 11/25\n",
            "2/2 [==============================] - 0s 14ms/step - loss: 0.0520 - accuracy: 0.9900\n",
            "Epoch 12/25\n",
            "2/2 [==============================] - 0s 12ms/step - loss: 0.0171 - accuracy: 1.0000\n",
            "Epoch 13/25\n",
            "2/2 [==============================] - 0s 12ms/step - loss: 0.0204 - accuracy: 1.0000\n",
            "Epoch 14/25\n",
            "2/2 [==============================] - 0s 12ms/step - loss: 0.0054 - accuracy: 1.0000\n",
            "Epoch 15/25\n",
            "2/2 [==============================] - 0s 12ms/step - loss: 0.0082 - accuracy: 1.0000\n",
            "Epoch 16/25\n",
            "2/2 [==============================] - 0s 12ms/step - loss: 0.0053 - accuracy: 1.0000\n",
            "Epoch 17/25\n",
            "2/2 [==============================] - 0s 12ms/step - loss: 4.2828e-04 - accuracy: 1.0000\n",
            "Epoch 18/25\n",
            "2/2 [==============================] - 0s 12ms/step - loss: 0.0024 - accuracy: 1.0000\n",
            "Epoch 19/25\n",
            "2/2 [==============================] - 0s 12ms/step - loss: 0.0019 - accuracy: 1.0000\n",
            "Epoch 20/25\n",
            "2/2 [==============================] - 0s 12ms/step - loss: 8.1611e-04 - accuracy: 1.0000\n",
            "Epoch 21/25\n",
            "2/2 [==============================] - 0s 12ms/step - loss: 5.3599e-04 - accuracy: 1.0000\n",
            "Epoch 22/25\n",
            "2/2 [==============================] - 0s 12ms/step - loss: 2.5123e-04 - accuracy: 1.0000\n",
            "Epoch 23/25\n",
            "2/2 [==============================] - 0s 12ms/step - loss: 1.1022e-04 - accuracy: 1.0000\n",
            "Epoch 24/25\n",
            "2/2 [==============================] - 0s 13ms/step - loss: 7.2197e-05 - accuracy: 1.0000\n",
            "Epoch 25/25\n",
            "2/2 [==============================] - 0s 11ms/step - loss: 6.4022e-05 - accuracy: 1.0000\n"
          ]
        }
      ]
    },
    {
      "cell_type": "code",
      "source": [
        "model.save(\"/content/drive/MyDrive/Colab Notebooks/BT/nhan_dien_sinh_vien.h5\")"
      ],
      "metadata": {
        "id": "-6DWiC5wfQ0S"
      },
      "execution_count": null,
      "outputs": []
    },
    {
      "cell_type": "code",
      "source": [
        "from keras.saving.saving_lib import load_model\n",
        "import matplotlib.pyplot as plt\n",
        "from keras.models import load_model\n",
        "model100=load_model(\"/content/drive/MyDrive/Colab Notebooks/BT/nhan_dien_sinh_vien.h5\")\n",
        "img=load_img('/content/drive/MyDrive/SV/QUANG_NHAT/QuangNhat_0011.jpg')\n",
        "plt.imshow(img)\n",
        "plt.show()"
      ],
      "metadata": {
        "colab": {
          "base_uri": "https://localhost:8080/",
          "height": 434
        },
        "id": "IGWLm70KhiDg",
        "outputId": "397a4ce4-fe75-4391-8760-c6f073ecab11"
      },
      "execution_count": null,
      "outputs": [
        {
          "output_type": "display_data",
          "data": {
            "text/plain": [
              "<Figure size 640x480 with 1 Axes>"
            ],
            "image/png": "[encoded data removed]"
          },
          "metadata": {}
        }
      ]
    },
    {
      "cell_type": "code",
      "source": [
        "img = load_img('/content/drive/MyDrive/SV/QUANG_NHAT/QuangNhat_0011.jpg',target_size=(40,30))\n",
        "plt.imshow(img)"
      ],
      "metadata": {
        "colab": {
          "base_uri": "https://localhost:8080/",
          "height": 448
        },
        "id": "GrFT5Jizhzzi",
        "outputId": "f87c1c4b-a08b-410e-e464-c299bba9e13a"
      },
      "execution_count": null,
      "outputs": [
        {
          "output_type": "execute_result",
          "data": {
            "text/plain": [
              "<matplotlib.image.AxesImage at 0x7f3b08950670>"
            ]
          },
          "metadata": {},
          "execution_count": 21
        },
        {
          "output_type": "display_data",
          "data": {
            "text/plain": [
              "<Figure size 640x480 with 1 Axes>"
            ],
            "image/png": "[encoded data removed]"
          },
          "metadata": {}
        }
      ]
    },
    {
      "cell_type": "code",
      "source": [
        "import numpy as np\n",
        "class_name = ['LAM','PHONG','QUANG_NHAT','THAOHUNG','TOANQUAN']\n",
        "img=img_to_array(img)\n",
        "img=img.reshape(1,40,30,3)\n",
        "img=img.astype('float32')\n",
        "img=img/255\n",
        "predict = model100.predict(img)\n",
        "print(\"ĐÂY LÀ AI: \", class_name[np.argmax(predict[0])], (predict[0]))\n",
        "print(np.max(predict[0],axis=0))"
      ],
      "metadata": {
        "colab": {
          "base_uri": "https://localhost:8080/"
        },
        "id": "UPDI2N6Hh9ls",
        "outputId": "a750b8a4-28d5-48ad-b4dc-e4b04e479714"
      },
      "execution_count": null,
      "outputs": [
        {
          "output_type": "stream",
          "name": "stdout",
          "text": [
            "1/1 [==============================] - 0s 77ms/step\n",
            "ĐÂY LÀ AI:  QUANG_NHAT [1.5639538e-13 2.5951217e-13 1.0000000e+00 1.0149258e-09 2.5295408e-11]\n",
            "1.0\n"
          ]
        }
      ]
    },
    {
      "cell_type": "code",
      "source": [],
      "metadata": {
        "id": "jK8Ixn_hiWeJ"
      },
      "execution_count": null,
      "outputs": []
    }
  ]
}